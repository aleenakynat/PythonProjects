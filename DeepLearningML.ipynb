{
  "nbformat": 4,
  "nbformat_minor": 0,
  "metadata": {
    "colab": {
      "name": "Part 2_Aleena Kynat.ipynb",
      "version": "0.3.2",
      "provenance": []
    },
    "language_info": {
      "codemirror_mode": {
        "name": "ipython",
        "version": 3
      },
      "file_extension": ".py",
      "mimetype": "text/x-python",
      "name": "python",
      "nbconvert_exporter": "python",
      "pygments_lexer": "ipython3",
      "version": "3.6.8"
    },
    "kernelspec": {
      "name": "python3",
      "display_name": "Python 3"
    },
    "accelerator": "TPU"
  },
  "cells": [
    {
      "cell_type": "markdown",
      "metadata": {
        "id": "jnUbLLFAIOmM",
        "colab_type": "text"
      },
      "source": [
        "## Deep Learning model to predict zodiac sign and gender based on blog posts."
      ]
    },
    {
      "cell_type": "code",
      "metadata": {
        "id": "e0WmeLfMIOmf",
        "colab_type": "code",
        "colab": {}
      },
      "source": [
        "import pandas as pd\n",
        "import numpy as np"
      ],
      "execution_count": 0,
      "outputs": []
    },
    {
      "cell_type": "code",
      "metadata": {
        "id": "RQxwRrACIOmy",
        "colab_type": "code",
        "colab": {}
      },
      "source": [
        "import requests \n",
        "import xml.etree.ElementTree as et\n",
        "import os\n",
        "import csv"
      ],
      "execution_count": 0,
      "outputs": []
    },
    {
      "cell_type": "markdown",
      "metadata": {
        "id": "vgGoe1HEIOm3",
        "colab_type": "text"
      },
      "source": [
        "Creating an empty pandas dataframe to append data to from xml files"
      ]
    },
    {
      "cell_type": "code",
      "metadata": {
        "id": "Mub3qODfIOm4",
        "colab_type": "code",
        "colab": {}
      },
      "source": [
        "df = pd.DataFrame(columns=['ID', 'Gender', 'Age','Occ','Star','fileType'])"
      ],
      "execution_count": 0,
      "outputs": []
    },
    {
      "cell_type": "code",
      "metadata": {
        "id": "5l0Nmt8ZIOnO",
        "colab_type": "code",
        "colab": {}
      },
      "source": [
        "import xml.dom.minidom"
      ],
      "execution_count": 0,
      "outputs": []
    },
    {
      "cell_type": "markdown",
      "metadata": {
        "id": "1grCxkLzIOni",
        "colab_type": "text"
      },
      "source": [
        "Directory of files"
      ]
    },
    {
      "cell_type": "code",
      "metadata": {
        "id": "vmloklDSIOnj",
        "colab_type": "code",
        "colab": {}
      },
      "source": [
        "#os.listdir('blogs_train')"
      ],
      "execution_count": 0,
      "outputs": []
    },
    {
      "cell_type": "markdown",
      "metadata": {
        "id": "efqZI0hKIOoV",
        "colab_type": "text"
      },
      "source": [
        "Extracting data from file names and adding it to the aforementioned dataframe"
      ]
    },
    {
      "cell_type": "code",
      "metadata": {
        "id": "x8rJy5SzIOoY",
        "colab_type": "code",
        "colab": {}
      },
      "source": [
        "i=0\n",
        "for filename in os.listdir(r'Drive/ML/blogs_train'):\n",
        "    if filename.endswith('.xml'):\n",
        "        a=filename.split('.')\n",
        "        df.loc[i]=a\n",
        "        i=i+1"
      ],
      "execution_count": 0,
      "outputs": []
    },
    {
      "cell_type": "code",
      "metadata": {
        "id": "CTr77VmOIOos",
        "colab_type": "code",
        "outputId": "4a6e27d7-8928-4af7-f4fc-41b272d424d4",
        "colab": {
          "base_uri": "https://localhost:8080/",
          "height": 204
        }
      },
      "source": [
        "df.head()"
      ],
      "execution_count": 7,
      "outputs": [
        {
          "output_type": "execute_result",
          "data": {
            "text/html": [
              "<div>\n",
              "<style scoped>\n",
              "    .dataframe tbody tr th:only-of-type {\n",
              "        vertical-align: middle;\n",
              "    }\n",
              "\n",
              "    .dataframe tbody tr th {\n",
              "        vertical-align: top;\n",
              "    }\n",
              "\n",
              "    .dataframe thead th {\n",
              "        text-align: right;\n",
              "    }\n",
              "</style>\n",
              "<table border=\"1\" class=\"dataframe\">\n",
              "  <thead>\n",
              "    <tr style=\"text-align: right;\">\n",
              "      <th></th>\n",
              "      <th>ID</th>\n",
              "      <th>Gender</th>\n",
              "      <th>Age</th>\n",
              "      <th>Occ</th>\n",
              "      <th>Star</th>\n",
              "      <th>fileType</th>\n",
              "    </tr>\n",
              "  </thead>\n",
              "  <tbody>\n",
              "    <tr>\n",
              "      <th>0</th>\n",
              "      <td>3342873</td>\n",
              "      <td>male</td>\n",
              "      <td>15</td>\n",
              "      <td>Student</td>\n",
              "      <td>Aquarius</td>\n",
              "      <td>xml</td>\n",
              "    </tr>\n",
              "    <tr>\n",
              "      <th>1</th>\n",
              "      <td>3220764</td>\n",
              "      <td>female</td>\n",
              "      <td>24</td>\n",
              "      <td>Government</td>\n",
              "      <td>Taurus</td>\n",
              "      <td>xml</td>\n",
              "    </tr>\n",
              "    <tr>\n",
              "      <th>2</th>\n",
              "      <td>3114279</td>\n",
              "      <td>male</td>\n",
              "      <td>24</td>\n",
              "      <td>Student</td>\n",
              "      <td>Taurus</td>\n",
              "      <td>xml</td>\n",
              "    </tr>\n",
              "    <tr>\n",
              "      <th>3</th>\n",
              "      <td>3214684</td>\n",
              "      <td>male</td>\n",
              "      <td>24</td>\n",
              "      <td>Engineering</td>\n",
              "      <td>Cancer</td>\n",
              "      <td>xml</td>\n",
              "    </tr>\n",
              "    <tr>\n",
              "      <th>4</th>\n",
              "      <td>3227750</td>\n",
              "      <td>male</td>\n",
              "      <td>23</td>\n",
              "      <td>Technology</td>\n",
              "      <td>Scorpio</td>\n",
              "      <td>xml</td>\n",
              "    </tr>\n",
              "  </tbody>\n",
              "</table>\n",
              "</div>"
            ],
            "text/plain": [
              "        ID  Gender Age          Occ      Star fileType\n",
              "0  3342873    male  15      Student  Aquarius      xml\n",
              "1  3220764  female  24   Government    Taurus      xml\n",
              "2  3114279    male  24      Student    Taurus      xml\n",
              "3  3214684    male  24  Engineering    Cancer      xml\n",
              "4  3227750    male  23   Technology   Scorpio      xml"
            ]
          },
          "metadata": {
            "tags": []
          },
          "execution_count": 7
        }
      ]
    },
    {
      "cell_type": "markdown",
      "metadata": {
        "id": "5ML6aMaWIOo-",
        "colab_type": "text"
      },
      "source": [
        "Creating a new column by copying another"
      ]
    },
    {
      "cell_type": "code",
      "metadata": {
        "id": "ja6R-4uhIOpA",
        "colab_type": "code",
        "colab": {}
      },
      "source": [
        "df['PostCol']=df['fileType']"
      ],
      "execution_count": 0,
      "outputs": []
    },
    {
      "cell_type": "code",
      "metadata": {
        "id": "JWKkENSVIOpI",
        "colab_type": "code",
        "outputId": "9ff1eb98-6113-475c-dd76-10e9c82f43ad",
        "colab": {
          "base_uri": "https://localhost:8080/",
          "height": 204
        }
      },
      "source": [
        "df.head()"
      ],
      "execution_count": 9,
      "outputs": [
        {
          "output_type": "execute_result",
          "data": {
            "text/html": [
              "<div>\n",
              "<style scoped>\n",
              "    .dataframe tbody tr th:only-of-type {\n",
              "        vertical-align: middle;\n",
              "    }\n",
              "\n",
              "    .dataframe tbody tr th {\n",
              "        vertical-align: top;\n",
              "    }\n",
              "\n",
              "    .dataframe thead th {\n",
              "        text-align: right;\n",
              "    }\n",
              "</style>\n",
              "<table border=\"1\" class=\"dataframe\">\n",
              "  <thead>\n",
              "    <tr style=\"text-align: right;\">\n",
              "      <th></th>\n",
              "      <th>ID</th>\n",
              "      <th>Gender</th>\n",
              "      <th>Age</th>\n",
              "      <th>Occ</th>\n",
              "      <th>Star</th>\n",
              "      <th>fileType</th>\n",
              "      <th>PostCol</th>\n",
              "    </tr>\n",
              "  </thead>\n",
              "  <tbody>\n",
              "    <tr>\n",
              "      <th>0</th>\n",
              "      <td>3342873</td>\n",
              "      <td>male</td>\n",
              "      <td>15</td>\n",
              "      <td>Student</td>\n",
              "      <td>Aquarius</td>\n",
              "      <td>xml</td>\n",
              "      <td>xml</td>\n",
              "    </tr>\n",
              "    <tr>\n",
              "      <th>1</th>\n",
              "      <td>3220764</td>\n",
              "      <td>female</td>\n",
              "      <td>24</td>\n",
              "      <td>Government</td>\n",
              "      <td>Taurus</td>\n",
              "      <td>xml</td>\n",
              "      <td>xml</td>\n",
              "    </tr>\n",
              "    <tr>\n",
              "      <th>2</th>\n",
              "      <td>3114279</td>\n",
              "      <td>male</td>\n",
              "      <td>24</td>\n",
              "      <td>Student</td>\n",
              "      <td>Taurus</td>\n",
              "      <td>xml</td>\n",
              "      <td>xml</td>\n",
              "    </tr>\n",
              "    <tr>\n",
              "      <th>3</th>\n",
              "      <td>3214684</td>\n",
              "      <td>male</td>\n",
              "      <td>24</td>\n",
              "      <td>Engineering</td>\n",
              "      <td>Cancer</td>\n",
              "      <td>xml</td>\n",
              "      <td>xml</td>\n",
              "    </tr>\n",
              "    <tr>\n",
              "      <th>4</th>\n",
              "      <td>3227750</td>\n",
              "      <td>male</td>\n",
              "      <td>23</td>\n",
              "      <td>Technology</td>\n",
              "      <td>Scorpio</td>\n",
              "      <td>xml</td>\n",
              "      <td>xml</td>\n",
              "    </tr>\n",
              "  </tbody>\n",
              "</table>\n",
              "</div>"
            ],
            "text/plain": [
              "        ID  Gender Age          Occ      Star fileType PostCol\n",
              "0  3342873    male  15      Student  Aquarius      xml     xml\n",
              "1  3220764  female  24   Government    Taurus      xml     xml\n",
              "2  3114279    male  24      Student    Taurus      xml     xml\n",
              "3  3214684    male  24  Engineering    Cancer      xml     xml\n",
              "4  3227750    male  23   Technology   Scorpio      xml     xml"
            ]
          },
          "metadata": {
            "tags": []
          },
          "execution_count": 9
        }
      ]
    },
    {
      "cell_type": "markdown",
      "metadata": {
        "id": "HPzV2QPCIOpY",
        "colab_type": "text"
      },
      "source": [
        "Parsing the actual xml files to get the blog posts text corresponding to each user, then storing them in the new column.\n",
        "Date is ignored as unrequired in the actual algorithm."
      ]
    },
    {
      "cell_type": "code",
      "metadata": {
        "scrolled": false,
        "id": "1Jjz6zpaIOpZ",
        "colab_type": "code",
        "colab": {}
      },
      "source": [
        "i=0\n",
        "from lxml import etree\n",
        "from lxml import html\n",
        "for filename in os.listdir(r'Drive/ML/blogs_train'):\n",
        "    fullname = os.path.join(r'Drive/ML/blogs_train', filename)\n",
        "    tree=html.parse(fullname)\n",
        "    root=tree.getroot()\n",
        "    \n",
        "    for post in root.iter('post'):\n",
        "        df['PostCol'][i]=post.text\n",
        "    i=i+1"
      ],
      "execution_count": 0,
      "outputs": []
    },
    {
      "cell_type": "code",
      "metadata": {
        "id": "PNJWgF7WIOpl",
        "colab_type": "code",
        "colab": {
          "base_uri": "https://localhost:8080/",
          "height": 204
        },
        "outputId": "87d4e406-2bbc-42c2-9f61-9a959fd32020"
      },
      "source": [
        "df.head()"
      ],
      "execution_count": 12,
      "outputs": [
        {
          "output_type": "execute_result",
          "data": {
            "text/html": [
              "<div>\n",
              "<style scoped>\n",
              "    .dataframe tbody tr th:only-of-type {\n",
              "        vertical-align: middle;\n",
              "    }\n",
              "\n",
              "    .dataframe tbody tr th {\n",
              "        vertical-align: top;\n",
              "    }\n",
              "\n",
              "    .dataframe thead th {\n",
              "        text-align: right;\n",
              "    }\n",
              "</style>\n",
              "<table border=\"1\" class=\"dataframe\">\n",
              "  <thead>\n",
              "    <tr style=\"text-align: right;\">\n",
              "      <th></th>\n",
              "      <th>ID</th>\n",
              "      <th>Gender</th>\n",
              "      <th>Age</th>\n",
              "      <th>Occ</th>\n",
              "      <th>Star</th>\n",
              "      <th>fileType</th>\n",
              "      <th>PostCol</th>\n",
              "    </tr>\n",
              "  </thead>\n",
              "  <tbody>\n",
              "    <tr>\n",
              "      <th>0</th>\n",
              "      <td>3342873</td>\n",
              "      <td>male</td>\n",
              "      <td>15</td>\n",
              "      <td>Student</td>\n",
              "      <td>Aquarius</td>\n",
              "      <td>xml</td>\n",
              "      <td>\\r\\n\\r\\n\\t \\r\\n       The Eagle Has Landed    ...</td>\n",
              "    </tr>\n",
              "    <tr>\n",
              "      <th>1</th>\n",
              "      <td>3220764</td>\n",
              "      <td>female</td>\n",
              "      <td>24</td>\n",
              "      <td>Government</td>\n",
              "      <td>Taurus</td>\n",
              "      <td>xml</td>\n",
              "      <td>\\r\\n\\r\\n\\t \\r\\n      It is hot and it is raini...</td>\n",
              "    </tr>\n",
              "    <tr>\n",
              "      <th>2</th>\n",
              "      <td>3114279</td>\n",
              "      <td>male</td>\n",
              "      <td>24</td>\n",
              "      <td>Student</td>\n",
              "      <td>Taurus</td>\n",
              "      <td>xml</td>\n",
              "      <td>\\r\\n\\r\\n\\t \\r\\nNick :   \\r\\n      It's a littl...</td>\n",
              "    </tr>\n",
              "    <tr>\n",
              "      <th>3</th>\n",
              "      <td>3214684</td>\n",
              "      <td>male</td>\n",
              "      <td>24</td>\n",
              "      <td>Engineering</td>\n",
              "      <td>Cancer</td>\n",
              "      <td>xml</td>\n",
              "      <td>\\r\\n\\r\\n     \\r\\n      Hey guys, been long tim...</td>\n",
              "    </tr>\n",
              "    <tr>\n",
              "      <th>4</th>\n",
              "      <td>3227750</td>\n",
              "      <td>male</td>\n",
              "      <td>23</td>\n",
              "      <td>Technology</td>\n",
              "      <td>Scorpio</td>\n",
              "      <td>xml</td>\n",
              "      <td>\\r\\n\\r\\n\\t \\r\\n      Ugh. This is my second at...</td>\n",
              "    </tr>\n",
              "  </tbody>\n",
              "</table>\n",
              "</div>"
            ],
            "text/plain": [
              "        ID  Gender  ... fileType                                            PostCol\n",
              "0  3342873    male  ...      xml  \\r\\n\\r\\n\\t \\r\\n       The Eagle Has Landed    ...\n",
              "1  3220764  female  ...      xml  \\r\\n\\r\\n\\t \\r\\n      It is hot and it is raini...\n",
              "2  3114279    male  ...      xml  \\r\\n\\r\\n\\t \\r\\nNick :   \\r\\n      It's a littl...\n",
              "3  3214684    male  ...      xml  \\r\\n\\r\\n     \\r\\n      Hey guys, been long tim...\n",
              "4  3227750    male  ...      xml  \\r\\n\\r\\n\\t \\r\\n      Ugh. This is my second at...\n",
              "\n",
              "[5 rows x 7 columns]"
            ]
          },
          "metadata": {
            "tags": []
          },
          "execution_count": 12
        }
      ]
    },
    {
      "cell_type": "markdown",
      "metadata": {
        "id": "-KS8_B8LIOp7",
        "colab_type": "text"
      },
      "source": [
        "Creating a function using BeautifulSoup and bag of words to clean the text from blog posts"
      ]
    },
    {
      "cell_type": "code",
      "metadata": {
        "id": "rgSVFFgzIOqG",
        "colab_type": "code",
        "colab": {
          "base_uri": "https://localhost:8080/",
          "height": 51
        },
        "outputId": "03325bdd-33b7-46d2-9327-cd026ec84acd"
      },
      "source": [
        "import re\n",
        "from bs4 import BeautifulSoup \n",
        "import nltk\n",
        "nltk.download('stopwords')\n",
        "from nltk.corpus import stopwords\n",
        "\n",
        "def post_to_words( bp ):\n",
        "\n",
        "    # Function to convert a blog post to a string of words\n",
        "    # 1. Remove HTML\n",
        "    p_text = BeautifulSoup(bp).get_text() \n",
        "    #\n",
        "    # 2. Remove non-letters        \n",
        "    letters_only = re.sub(\"[^a-zA-Z]\", \" \", p_text) \n",
        "    #\n",
        "    # 3. Convert to lower case, split into individual words\n",
        "    words = letters_only.lower().split()                             \n",
        "    #\n",
        "    # 4. In Python, searching a set is much faster than searching\n",
        "    #   a list, so convert the stop words to a set\n",
        "    stops = set(stopwords.words(\"english\"))                  \n",
        "    # \n",
        "    # 5. Remove stop words\n",
        "    meaningful_words = [w for w in words if not w in stops]   \n",
        "    #\n",
        "    # 6. Join the words back into one string separated by space, \n",
        "    # and return the result.\n",
        "    return( \" \".join( meaningful_words )) "
      ],
      "execution_count": 16,
      "outputs": [
        {
          "output_type": "stream",
          "text": [
            "[nltk_data] Downloading package stopwords to /root/nltk_data...\n",
            "[nltk_data]   Unzipping corpora/stopwords.zip.\n"
          ],
          "name": "stdout"
        }
      ]
    },
    {
      "cell_type": "markdown",
      "metadata": {
        "id": "aW63mjX-IOqd",
        "colab_type": "text"
      },
      "source": [
        "Applying said function to the data"
      ]
    },
    {
      "cell_type": "code",
      "metadata": {
        "id": "uV2J-diwIOqn",
        "colab_type": "code",
        "colab": {}
      },
      "source": [
        "df['words']=''\n",
        "for i in df.index:\n",
        "    df['words'][i]=post_to_words(str(df['PostCol'][i]))"
      ],
      "execution_count": 0,
      "outputs": []
    },
    {
      "cell_type": "code",
      "metadata": {
        "id": "llau_QN8IOq7",
        "colab_type": "code",
        "colab": {
          "base_uri": "https://localhost:8080/",
          "height": 204
        },
        "outputId": "bda4a001-cab4-4772-d2a5-d23cd7b441f4"
      },
      "source": [
        "df.head()"
      ],
      "execution_count": 18,
      "outputs": [
        {
          "output_type": "execute_result",
          "data": {
            "text/html": [
              "<div>\n",
              "<style scoped>\n",
              "    .dataframe tbody tr th:only-of-type {\n",
              "        vertical-align: middle;\n",
              "    }\n",
              "\n",
              "    .dataframe tbody tr th {\n",
              "        vertical-align: top;\n",
              "    }\n",
              "\n",
              "    .dataframe thead th {\n",
              "        text-align: right;\n",
              "    }\n",
              "</style>\n",
              "<table border=\"1\" class=\"dataframe\">\n",
              "  <thead>\n",
              "    <tr style=\"text-align: right;\">\n",
              "      <th></th>\n",
              "      <th>ID</th>\n",
              "      <th>Gender</th>\n",
              "      <th>Age</th>\n",
              "      <th>Occ</th>\n",
              "      <th>Star</th>\n",
              "      <th>fileType</th>\n",
              "      <th>PostCol</th>\n",
              "      <th>words</th>\n",
              "    </tr>\n",
              "  </thead>\n",
              "  <tbody>\n",
              "    <tr>\n",
              "      <th>0</th>\n",
              "      <td>3342873</td>\n",
              "      <td>male</td>\n",
              "      <td>15</td>\n",
              "      <td>Student</td>\n",
              "      <td>Aquarius</td>\n",
              "      <td>xml</td>\n",
              "      <td>\\r\\n\\r\\n\\t \\r\\n       The Eagle Has Landed    ...</td>\n",
              "      <td>eagle landed apollo touches lunar surface july...</td>\n",
              "    </tr>\n",
              "    <tr>\n",
              "      <th>1</th>\n",
              "      <td>3220764</td>\n",
              "      <td>female</td>\n",
              "      <td>24</td>\n",
              "      <td>Government</td>\n",
              "      <td>Taurus</td>\n",
              "      <td>xml</td>\n",
              "      <td>\\r\\n\\r\\n\\t \\r\\n      It is hot and it is raini...</td>\n",
              "      <td>hot raining fat summer raindrops size eyeballs...</td>\n",
              "    </tr>\n",
              "    <tr>\n",
              "      <th>2</th>\n",
              "      <td>3114279</td>\n",
              "      <td>male</td>\n",
              "      <td>24</td>\n",
              "      <td>Student</td>\n",
              "      <td>Taurus</td>\n",
              "      <td>xml</td>\n",
              "      <td>\\r\\n\\r\\n\\t \\r\\nNick :   \\r\\n      It's a littl...</td>\n",
              "      <td>nick little got home work short ago pulling mi...</td>\n",
              "    </tr>\n",
              "    <tr>\n",
              "      <th>3</th>\n",
              "      <td>3214684</td>\n",
              "      <td>male</td>\n",
              "      <td>24</td>\n",
              "      <td>Engineering</td>\n",
              "      <td>Cancer</td>\n",
              "      <td>xml</td>\n",
              "      <td>\\r\\n\\r\\n     \\r\\n      Hey guys, been long tim...</td>\n",
              "      <td>hey guys long time guess every one kicking goo...</td>\n",
              "    </tr>\n",
              "    <tr>\n",
              "      <th>4</th>\n",
              "      <td>3227750</td>\n",
              "      <td>male</td>\n",
              "      <td>23</td>\n",
              "      <td>Technology</td>\n",
              "      <td>Scorpio</td>\n",
              "      <td>xml</td>\n",
              "      <td>\\r\\n\\r\\n\\t \\r\\n      Ugh. This is my second at...</td>\n",
              "      <td>ugh second attempt third post blog last night ...</td>\n",
              "    </tr>\n",
              "  </tbody>\n",
              "</table>\n",
              "</div>"
            ],
            "text/plain": [
              "        ID  ...                                              words\n",
              "0  3342873  ...  eagle landed apollo touches lunar surface july...\n",
              "1  3220764  ...  hot raining fat summer raindrops size eyeballs...\n",
              "2  3114279  ...  nick little got home work short ago pulling mi...\n",
              "3  3214684  ...  hey guys long time guess every one kicking goo...\n",
              "4  3227750  ...  ugh second attempt third post blog last night ...\n",
              "\n",
              "[5 rows x 8 columns]"
            ]
          },
          "metadata": {
            "tags": []
          },
          "execution_count": 18
        }
      ]
    },
    {
      "cell_type": "markdown",
      "metadata": {
        "id": "jpmMr_NtIOsT",
        "colab_type": "text"
      },
      "source": [
        "Dropping unnecessary columns as a part of pre-processing.\n",
        "Creating a new dataframe to make dealing with errors easier."
      ]
    },
    {
      "cell_type": "code",
      "metadata": {
        "id": "ieFYEJ1JIOsW",
        "colab_type": "code",
        "colab": {}
      },
      "source": [
        "dff=df.drop(['ID','Age','Occ','fileType','PostCol'],axis=1)"
      ],
      "execution_count": 0,
      "outputs": []
    },
    {
      "cell_type": "markdown",
      "metadata": {
        "id": "83f1SGRXIOsw",
        "colab_type": "text"
      },
      "source": [
        "Defining stop words (for vectorizer)"
      ]
    },
    {
      "cell_type": "code",
      "metadata": {
        "id": "bmZbBvC6IOsy",
        "colab_type": "code",
        "colab": {
          "base_uri": "https://localhost:8080/",
          "height": 34
        },
        "outputId": "7be3fae2-b30c-4809-a4f6-da428c4f2c6e"
      },
      "source": [
        "stp = nltk.corpus.stopwords.words('english')\n",
        "with open('./stopwords_eng.txt', 'w') as outfile:\n",
        "    outfile.write('\\n'.join(stp))\n",
        "    \n",
        "    \n",
        "with open('./stopwords_eng.txt', 'r') as infile:\n",
        "    stop_words = infile.read().splitlines()\n",
        "print('stop words %s ...' %stop_words[:5])"
      ],
      "execution_count": 20,
      "outputs": [
        {
          "output_type": "stream",
          "text": [
            "stop words ['i', 'me', 'my', 'myself', 'we'] ...\n"
          ],
          "name": "stdout"
        }
      ]
    },
    {
      "cell_type": "markdown",
      "metadata": {
        "id": "4hoDWUA-IOtC",
        "colab_type": "text"
      },
      "source": [
        "Defining vectorizer.\n",
        "Tfidf vectorizer is favored over count vectorizer.\n",
        "This is needed to deal with the nature of our input data, numerically."
      ]
    },
    {
      "cell_type": "code",
      "metadata": {
        "id": "q_fd73ZFIOtE",
        "colab_type": "code",
        "colab": {}
      },
      "source": [
        "from sklearn.feature_extraction.text import CountVectorizer\n",
        "from sklearn.feature_extraction.text import TfidfVectorizer\n",
        "import nltk\n",
        "import string\n",
        "import re\n",
        "\n",
        "porter_stemmer = nltk.stem.porter.PorterStemmer()\n",
        "\n",
        "def porter_tokenizer(text, stemmer=porter_stemmer):\n",
        "    \"\"\"\n",
        "    A Porter-Stemmer-Tokenizer hybrid to splits sentences into words (tokens) \n",
        "    and applies the porter stemming algorithm to each of the obtained token. \n",
        "    Tokens that are only consisting of punctuation characters are removed as well.\n",
        "    Only tokens that consist of more than one letter are being kept.\n",
        "    \n",
        "    Parameters\n",
        "    ----------\n",
        "        \n",
        "    text : `str`. \n",
        "      A sentence that is to split into words.\n",
        "        \n",
        "    Returns\n",
        "    ----------\n",
        "    \n",
        "    no_punct : `str`. \n",
        "      A list of tokens after stemming and removing Sentence punctuation patterns.\n",
        "    \n",
        "    \"\"\"\n",
        "    lower_txt = text.lower()\n",
        "    tokens = nltk.wordpunct_tokenize(lower_txt)\n",
        "    stems = [porter_stemmer.stem(t) for t in tokens]\n",
        "    no_punct = [s for s in stems if re.match('^[a-zA-Z]+$', s) is not None]\n",
        "    return no_punct\n",
        "\n",
        "tfidf = TfidfVectorizer(encoding='utf-8',decode_error='replace',strip_accents='unicode',\n",
        "            analyzer='word',\n",
        "            binary=False,\n",
        "            stop_words=stop_words,\n",
        "            tokenizer=porter_tokenizer\n",
        "    )\n",
        "\n",
        "#vec = CountVectorizer(\n",
        "#            encoding='utf-8',\n",
        "#            decode_error='replace',\n",
        "#            strip_accents='unicode',\n",
        "#            analyzer='word',\n",
        "#            binary=False,\n",
        "#            stop_words=stop_words,\n",
        "#            tokenizer=porter_tokenizer,\n",
        "#            ngram_range=(2,2)\n",
        "#    )"
      ],
      "execution_count": 0,
      "outputs": []
    },
    {
      "cell_type": "markdown",
      "metadata": {
        "id": "1BujgkBwIOtN",
        "colab_type": "text"
      },
      "source": [
        "Label Encoder for outputs"
      ]
    },
    {
      "cell_type": "code",
      "metadata": {
        "id": "M17apS6NIOtT",
        "colab_type": "code",
        "colab": {
          "base_uri": "https://localhost:8080/",
          "height": 204
        },
        "outputId": "e9c79cc7-677a-4e75-a99d-66dfbf9a4c28"
      },
      "source": [
        "dff.head()"
      ],
      "execution_count": 22,
      "outputs": [
        {
          "output_type": "execute_result",
          "data": {
            "text/html": [
              "<div>\n",
              "<style scoped>\n",
              "    .dataframe tbody tr th:only-of-type {\n",
              "        vertical-align: middle;\n",
              "    }\n",
              "\n",
              "    .dataframe tbody tr th {\n",
              "        vertical-align: top;\n",
              "    }\n",
              "\n",
              "    .dataframe thead th {\n",
              "        text-align: right;\n",
              "    }\n",
              "</style>\n",
              "<table border=\"1\" class=\"dataframe\">\n",
              "  <thead>\n",
              "    <tr style=\"text-align: right;\">\n",
              "      <th></th>\n",
              "      <th>Gender</th>\n",
              "      <th>Star</th>\n",
              "      <th>words</th>\n",
              "    </tr>\n",
              "  </thead>\n",
              "  <tbody>\n",
              "    <tr>\n",
              "      <th>0</th>\n",
              "      <td>male</td>\n",
              "      <td>Aquarius</td>\n",
              "      <td>eagle landed apollo touches lunar surface july...</td>\n",
              "    </tr>\n",
              "    <tr>\n",
              "      <th>1</th>\n",
              "      <td>female</td>\n",
              "      <td>Taurus</td>\n",
              "      <td>hot raining fat summer raindrops size eyeballs...</td>\n",
              "    </tr>\n",
              "    <tr>\n",
              "      <th>2</th>\n",
              "      <td>male</td>\n",
              "      <td>Taurus</td>\n",
              "      <td>nick little got home work short ago pulling mi...</td>\n",
              "    </tr>\n",
              "    <tr>\n",
              "      <th>3</th>\n",
              "      <td>male</td>\n",
              "      <td>Cancer</td>\n",
              "      <td>hey guys long time guess every one kicking goo...</td>\n",
              "    </tr>\n",
              "    <tr>\n",
              "      <th>4</th>\n",
              "      <td>male</td>\n",
              "      <td>Scorpio</td>\n",
              "      <td>ugh second attempt third post blog last night ...</td>\n",
              "    </tr>\n",
              "  </tbody>\n",
              "</table>\n",
              "</div>"
            ],
            "text/plain": [
              "   Gender      Star                                              words\n",
              "0    male  Aquarius  eagle landed apollo touches lunar surface july...\n",
              "1  female    Taurus  hot raining fat summer raindrops size eyeballs...\n",
              "2    male    Taurus  nick little got home work short ago pulling mi...\n",
              "3    male    Cancer  hey guys long time guess every one kicking goo...\n",
              "4    male   Scorpio  ugh second attempt third post blog last night ..."
            ]
          },
          "metadata": {
            "tags": []
          },
          "execution_count": 22
        }
      ]
    },
    {
      "cell_type": "code",
      "metadata": {
        "id": "UPFOxtvLIOvM",
        "colab_type": "code",
        "colab": {}
      },
      "source": [
        "from sklearn import preprocessing\n",
        "le=preprocessing.LabelEncoder()\n",
        "dff['Gender']=le.fit_transform(dff['Gender'])\n",
        "le=preprocessing.LabelEncoder()\n",
        "dff['Star']=le.fit_transform(dff['Star'])\n"
      ],
      "execution_count": 0,
      "outputs": []
    },
    {
      "cell_type": "code",
      "metadata": {
        "id": "q090rIyaIOv4",
        "colab_type": "code",
        "colab": {
          "base_uri": "https://localhost:8080/",
          "height": 204
        },
        "outputId": "9951fab6-f371-417c-fdff-05c7eeb987dd"
      },
      "source": [
        "dff.head()"
      ],
      "execution_count": 24,
      "outputs": [
        {
          "output_type": "execute_result",
          "data": {
            "text/html": [
              "<div>\n",
              "<style scoped>\n",
              "    .dataframe tbody tr th:only-of-type {\n",
              "        vertical-align: middle;\n",
              "    }\n",
              "\n",
              "    .dataframe tbody tr th {\n",
              "        vertical-align: top;\n",
              "    }\n",
              "\n",
              "    .dataframe thead th {\n",
              "        text-align: right;\n",
              "    }\n",
              "</style>\n",
              "<table border=\"1\" class=\"dataframe\">\n",
              "  <thead>\n",
              "    <tr style=\"text-align: right;\">\n",
              "      <th></th>\n",
              "      <th>Gender</th>\n",
              "      <th>Star</th>\n",
              "      <th>words</th>\n",
              "    </tr>\n",
              "  </thead>\n",
              "  <tbody>\n",
              "    <tr>\n",
              "      <th>0</th>\n",
              "      <td>1</td>\n",
              "      <td>0</td>\n",
              "      <td>eagle landed apollo touches lunar surface july...</td>\n",
              "    </tr>\n",
              "    <tr>\n",
              "      <th>1</th>\n",
              "      <td>0</td>\n",
              "      <td>10</td>\n",
              "      <td>hot raining fat summer raindrops size eyeballs...</td>\n",
              "    </tr>\n",
              "    <tr>\n",
              "      <th>2</th>\n",
              "      <td>1</td>\n",
              "      <td>10</td>\n",
              "      <td>nick little got home work short ago pulling mi...</td>\n",
              "    </tr>\n",
              "    <tr>\n",
              "      <th>3</th>\n",
              "      <td>1</td>\n",
              "      <td>2</td>\n",
              "      <td>hey guys long time guess every one kicking goo...</td>\n",
              "    </tr>\n",
              "    <tr>\n",
              "      <th>4</th>\n",
              "      <td>1</td>\n",
              "      <td>9</td>\n",
              "      <td>ugh second attempt third post blog last night ...</td>\n",
              "    </tr>\n",
              "  </tbody>\n",
              "</table>\n",
              "</div>"
            ],
            "text/plain": [
              "   Gender  Star                                              words\n",
              "0       1     0  eagle landed apollo touches lunar surface july...\n",
              "1       0    10  hot raining fat summer raindrops size eyeballs...\n",
              "2       1    10  nick little got home work short ago pulling mi...\n",
              "3       1     2  hey guys long time guess every one kicking goo...\n",
              "4       1     9  ugh second attempt third post blog last night ..."
            ]
          },
          "metadata": {
            "tags": []
          },
          "execution_count": 24
        }
      ]
    },
    {
      "cell_type": "markdown",
      "metadata": {
        "id": "stckF118IOxk",
        "colab_type": "text"
      },
      "source": [
        "I choose to create two neural networks, one for each output (i.e gender and star) ."
      ]
    },
    {
      "cell_type": "markdown",
      "metadata": {
        "id": "miQb3XQxIOxq",
        "colab_type": "text"
      },
      "source": [
        "### Model 1: predicting gender"
      ]
    },
    {
      "cell_type": "code",
      "metadata": {
        "id": "Y49OkTkSIOxu",
        "colab_type": "code",
        "colab": {}
      },
      "source": [
        "#cols = dff.columns.values\n",
        "X= dff['words']\n",
        "y = dff['Gender']"
      ],
      "execution_count": 0,
      "outputs": []
    },
    {
      "cell_type": "markdown",
      "metadata": {
        "id": "v5k3kEvDKQ3o",
        "colab_type": "text"
      },
      "source": [
        "Splitting the test train data using K-Fold cross validation"
      ]
    },
    {
      "cell_type": "code",
      "metadata": {
        "id": "enK9t4VxIOyF",
        "colab_type": "code",
        "colab": {}
      },
      "source": [
        "from sklearn.model_selection import KFold\n",
        "kf = KFold(n_splits=10, random_state=42, shuffle=False)\n",
        "for train_index, test_index in kf.split(X):\n",
        "    X_train, X_test, y_train, y_test = X.iloc[train_index], X.iloc[test_index], y.iloc[train_index], y.iloc[test_index]"
      ],
      "execution_count": 0,
      "outputs": []
    },
    {
      "cell_type": "markdown",
      "metadata": {
        "id": "Oo-TEqFKIOyN",
        "colab_type": "text"
      },
      "source": [
        "Fitting the vectorizer"
      ]
    },
    {
      "cell_type": "code",
      "metadata": {
        "id": "Raw3h1BSIOyO",
        "colab_type": "code",
        "colab": {
          "base_uri": "https://localhost:8080/",
          "height": 71
        },
        "outputId": "97316bd5-a60b-482a-fcea-00e2796da8c0"
      },
      "source": [
        "tfidf = tfidf.fit(dff['words'])"
      ],
      "execution_count": 27,
      "outputs": [
        {
          "output_type": "stream",
          "text": [
            "/usr/local/lib/python3.6/dist-packages/sklearn/feature_extraction/text.py:300: UserWarning: Your stop_words may be inconsistent with your preprocessing. Tokenizing the stop words generated tokens ['abov', 'ani', 'becaus', 'befor', 'doe', 'dure', 'ha', 'hi', 'onc', 'onli', 'ourselv', 'themselv', 'thi', 'veri', 'wa', 'whi', 'yourselv'] not in stop_words.\n",
            "  'stop_words.' % sorted(inconsistent))\n"
          ],
          "name": "stderr"
        }
      ]
    },
    {
      "cell_type": "code",
      "metadata": {
        "id": "57Y3eVySIOyW",
        "colab_type": "code",
        "colab": {
          "base_uri": "https://localhost:8080/",
          "height": 34
        },
        "outputId": "5d55ccbf-1b56-4275-91c7-37e65cf50d14"
      },
      "source": [
        "len(tfidf.get_feature_names())"
      ],
      "execution_count": 28,
      "outputs": [
        {
          "output_type": "execute_result",
          "data": {
            "text/plain": [
              "37305"
            ]
          },
          "metadata": {
            "tags": []
          },
          "execution_count": 28
        }
      ]
    },
    {
      "cell_type": "code",
      "metadata": {
        "id": "BS_b_PQCIOyf",
        "colab_type": "code",
        "colab": {}
      },
      "source": [
        "X1=tfidf.transform(X_train)\n",
        "X1=X1.toarray()"
      ],
      "execution_count": 0,
      "outputs": []
    },
    {
      "cell_type": "code",
      "metadata": {
        "id": "U3ks20uyIOyj",
        "colab_type": "code",
        "colab": {}
      },
      "source": [
        "X_tr=X1"
      ],
      "execution_count": 0,
      "outputs": []
    },
    {
      "cell_type": "code",
      "metadata": {
        "id": "oHlefnN0IOym",
        "colab_type": "code",
        "colab": {}
      },
      "source": [
        "X_ts=tfidf.transform(X_test)\n",
        "X_ts=X_ts.toarray()"
      ],
      "execution_count": 0,
      "outputs": []
    },
    {
      "cell_type": "markdown",
      "metadata": {
        "id": "k8hyXtmzIOyw",
        "colab_type": "text"
      },
      "source": [
        "Now, building our deep learning model.\n",
        "I use keras library."
      ]
    },
    {
      "cell_type": "code",
      "metadata": {
        "id": "d9IYnbAKIOyy",
        "colab_type": "code",
        "colab": {
          "base_uri": "https://localhost:8080/",
          "height": 34
        },
        "outputId": "9d18a15a-dc50-44d1-a6a1-1c40698ca99f"
      },
      "source": [
        "X1.shape"
      ],
      "execution_count": 32,
      "outputs": [
        {
          "output_type": "execute_result",
          "data": {
            "text/plain": [
              "(4599, 37305)"
            ]
          },
          "metadata": {
            "tags": []
          },
          "execution_count": 32
        }
      ]
    },
    {
      "cell_type": "code",
      "metadata": {
        "id": "C00mM6wOIOzu",
        "colab_type": "code",
        "colab": {
          "base_uri": "https://localhost:8080/",
          "height": 34
        },
        "outputId": "a1800afc-b81b-4e38-f9f2-ed8d3f225745"
      },
      "source": [
        "X1.shape[1]"
      ],
      "execution_count": 33,
      "outputs": [
        {
          "output_type": "execute_result",
          "data": {
            "text/plain": [
              "37305"
            ]
          },
          "metadata": {
            "tags": []
          },
          "execution_count": 33
        }
      ]
    },
    {
      "cell_type": "code",
      "metadata": {
        "id": "BTg-DTPSIOz5",
        "colab_type": "code",
        "colab": {
          "base_uri": "https://localhost:8080/",
          "height": 173
        },
        "outputId": "3543a8d6-8cfc-4bfe-e380-3546f751d4c6"
      },
      "source": [
        "from keras.models import Sequential\n",
        "from keras.layers import Dense\n",
        "\n",
        "#create model\n",
        "model = Sequential()\n",
        "#get number of columns in training \n",
        "datan_cols = X1.shape[1]\n",
        "#add model layers(2 layers and an output layer, 10 nodes)\n",
        "model.add(Dense(10, activation='relu', input_dim=datan_cols))\n",
        "model.add(Dense(10, activation='relu'))\n",
        "model.add(Dense(1,activation='sigmoid')) #sigmoid activation because we have binary output"
      ],
      "execution_count": 34,
      "outputs": [
        {
          "output_type": "stream",
          "text": [
            "Using TensorFlow backend.\n",
            "WARNING: Logging before flag parsing goes to stderr.\n",
            "W0705 13:20:44.574489 140294004193152 deprecation_wrapper.py:119] From /usr/local/lib/python3.6/dist-packages/keras/backend/tensorflow_backend.py:74: The name tf.get_default_graph is deprecated. Please use tf.compat.v1.get_default_graph instead.\n",
            "\n",
            "W0705 13:20:44.594970 140294004193152 deprecation_wrapper.py:119] From /usr/local/lib/python3.6/dist-packages/keras/backend/tensorflow_backend.py:517: The name tf.placeholder is deprecated. Please use tf.compat.v1.placeholder instead.\n",
            "\n",
            "W0705 13:20:44.597851 140294004193152 deprecation_wrapper.py:119] From /usr/local/lib/python3.6/dist-packages/keras/backend/tensorflow_backend.py:4138: The name tf.random_uniform is deprecated. Please use tf.random.uniform instead.\n",
            "\n"
          ],
          "name": "stderr"
        }
      ]
    },
    {
      "cell_type": "code",
      "metadata": {
        "id": "MorNA1ekIO0O",
        "colab_type": "code",
        "colab": {
          "base_uri": "https://localhost:8080/",
          "height": 156
        },
        "outputId": "0f39f675-c983-4d3d-de25-90a80af6fb62"
      },
      "source": [
        "#compile model using mse as a measure of model performance\n",
        "#since gender is abinary class, I choose the binary cross entropy loss function\n",
        "model.compile(optimizer='adam', loss='binary_crossentropy',metrics=['accuracy'])"
      ],
      "execution_count": 35,
      "outputs": [
        {
          "output_type": "stream",
          "text": [
            "W0705 13:20:44.682618 140294004193152 deprecation_wrapper.py:119] From /usr/local/lib/python3.6/dist-packages/keras/optimizers.py:790: The name tf.train.Optimizer is deprecated. Please use tf.compat.v1.train.Optimizer instead.\n",
            "\n",
            "W0705 13:20:44.709288 140294004193152 deprecation_wrapper.py:119] From /usr/local/lib/python3.6/dist-packages/keras/backend/tensorflow_backend.py:3376: The name tf.log is deprecated. Please use tf.math.log instead.\n",
            "\n",
            "W0705 13:20:44.716001 140294004193152 deprecation.py:323] From /usr/local/lib/python3.6/dist-packages/tensorflow/python/ops/nn_impl.py:180: add_dispatch_support.<locals>.wrapper (from tensorflow.python.ops.array_ops) is deprecated and will be removed in a future version.\n",
            "Instructions for updating:\n",
            "Use tf.where in 2.0, which has the same broadcast rule as np.where\n"
          ],
          "name": "stderr"
        }
      ]
    },
    {
      "cell_type": "code",
      "metadata": {
        "scrolled": false,
        "id": "xu3lXU8kIO1J",
        "colab_type": "code",
        "colab": {
          "base_uri": "https://localhost:8080/",
          "height": 88
        },
        "outputId": "a4d7700f-2acc-416d-c4d1-45a488c9905f"
      },
      "source": [
        "from keras.callbacks import EarlyStopping\n",
        "#set early stopping monitor so the model stops training when it won't improve anymore\n",
        "early_stopping_monitor = EarlyStopping(monitor='acc',patience=3)\n",
        "#train model\n",
        "model.fit(X_tr, y_train, epochs=100, batch_size=5,verbose=0,callbacks=[early_stopping_monitor])"
      ],
      "execution_count": 36,
      "outputs": [
        {
          "output_type": "stream",
          "text": [
            "W0705 13:20:46.852483 140294004193152 deprecation_wrapper.py:119] From /usr/local/lib/python3.6/dist-packages/keras/backend/tensorflow_backend.py:986: The name tf.assign_add is deprecated. Please use tf.compat.v1.assign_add instead.\n",
            "\n"
          ],
          "name": "stderr"
        },
        {
          "output_type": "execute_result",
          "data": {
            "text/plain": [
              "<keras.callbacks.History at 0x7f9876ec25f8>"
            ]
          },
          "metadata": {
            "tags": []
          },
          "execution_count": 36
        }
      ]
    },
    {
      "cell_type": "code",
      "metadata": {
        "id": "nSTC79nbIO1P",
        "colab_type": "code",
        "colab": {
          "base_uri": "https://localhost:8080/",
          "height": 34
        },
        "outputId": "adcde9e1-cbe0-4ccf-b271-53e458880511"
      },
      "source": [
        "# evaluate the model\n",
        "train_acc = model.evaluate(X_tr, y_train, verbose=0)\n",
        "test_acc = model.evaluate(X_ts, y_test, verbose=0)\n",
        "print('Train:',train_acc,'Test:', test_acc)"
      ],
      "execution_count": 37,
      "outputs": [
        {
          "output_type": "stream",
          "text": [
            "Train: [0.020193101918239725, 0.9884757555990432] Test: [1.4721486092546914, 0.6360078267388615]\n"
          ],
          "name": "stdout"
        }
      ]
    },
    {
      "cell_type": "code",
      "metadata": {
        "id": "WsnjUL0tIO1U",
        "colab_type": "code",
        "colab": {}
      },
      "source": [
        "#predictions \n",
        "y_pred=model.predict_classes(X_ts)"
      ],
      "execution_count": 0,
      "outputs": []
    },
    {
      "cell_type": "code",
      "metadata": {
        "id": "bddP-Y-dIO1d",
        "colab_type": "code",
        "colab": {
          "base_uri": "https://localhost:8080/",
          "height": 170
        },
        "outputId": "badcf437-a26f-4893-9976-1c4c51b177a5"
      },
      "source": [
        "from sklearn.metrics import classification_report\n",
        "print(classification_report(y_test, y_pred))"
      ],
      "execution_count": 39,
      "outputs": [
        {
          "output_type": "stream",
          "text": [
            "              precision    recall  f1-score   support\n",
            "\n",
            "           0       0.58      0.56      0.57       220\n",
            "           1       0.68      0.69      0.68       291\n",
            "\n",
            "    accuracy                           0.64       511\n",
            "   macro avg       0.63      0.63      0.63       511\n",
            "weighted avg       0.63      0.64      0.64       511\n",
            "\n"
          ],
          "name": "stdout"
        }
      ]
    },
    {
      "cell_type": "markdown",
      "metadata": {
        "id": "uFz3Vun3IO2g",
        "colab_type": "text"
      },
      "source": [
        "### Part 2: predicting star"
      ]
    },
    {
      "cell_type": "code",
      "metadata": {
        "id": "VRWCm5GQIO2j",
        "colab_type": "code",
        "colab": {}
      },
      "source": [
        "X= dff['words']\n",
        "y1 = dff['Star']"
      ],
      "execution_count": 0,
      "outputs": []
    },
    {
      "cell_type": "code",
      "metadata": {
        "id": "tPvYMqFPIO3-",
        "colab_type": "code",
        "colab": {}
      },
      "source": [
        "from sklearn.model_selection import KFold\n",
        "kf = KFold(n_splits=10, random_state=42, shuffle=False)\n",
        "for train_index, test_index in kf.split(X):\n",
        "    X_trn, X_tst, y_tr, y_ts = X.iloc[train_index], X.iloc[test_index], y1.iloc[train_index], y1.iloc[test_index]"
      ],
      "execution_count": 0,
      "outputs": []
    },
    {
      "cell_type": "code",
      "metadata": {
        "id": "RPJsMsujIO4c",
        "colab_type": "code",
        "colab": {}
      },
      "source": [
        "tr_X=tfidf.transform(X_trn)\n",
        "tr_X=tr_X.toarray()"
      ],
      "execution_count": 0,
      "outputs": []
    },
    {
      "cell_type": "code",
      "metadata": {
        "id": "UuWotyDhIO5I",
        "colab_type": "code",
        "colab": {}
      },
      "source": [
        "ts_X=tfidf.transform(X_tst)\n",
        "ts_X=ts_X.toarray()"
      ],
      "execution_count": 0,
      "outputs": []
    },
    {
      "cell_type": "code",
      "metadata": {
        "id": "OKeDA-WFIO5P",
        "colab_type": "code",
        "colab": {}
      },
      "source": [
        "#create model\n",
        "model_s = Sequential()\n",
        "#get number of columns in training \n",
        "datan_cols = tr_X.shape[1]\n",
        "#add model layers\n",
        "model_s.add(Dense(50, activation='relu', input_dim=datan_cols))\n",
        "model_s.add(Dense(12,activation='softmax')) #‘softmax‘ activation in order to predict the probability for each class\n",
        "#12 nodes to account for the 12 classes i.e stars"
      ],
      "execution_count": 0,
      "outputs": []
    },
    {
      "cell_type": "code",
      "metadata": {
        "id": "Y8SztzcPIO5a",
        "colab_type": "code",
        "colab": {}
      },
      "source": [
        "#compile model using mse as a measure of model performance\n",
        "from keras.optimizers import SGD\n",
        "opt = SGD(lr=0.01, momentum=0.9)\n",
        "model_s.compile(optimizer=opt, loss='sparse_categorical_crossentropy',metrics=['accuracy']) #Multi-Class Sparse Cross-Entropy Loss function"
      ],
      "execution_count": 0,
      "outputs": []
    },
    {
      "cell_type": "code",
      "metadata": {
        "id": "ASYpReU0IO5e",
        "colab_type": "code",
        "colab": {}
      },
      "source": [
        "from keras.callbacks import EarlyStopping\n",
        "#set early stopping monitor so the model stops training when it won't improve anymore\n",
        "es_monitor = EarlyStopping(monitor='acc',patience=3)\n",
        "#train model\n",
        "history = model_s.fit(tr_X, y_tr, epochs=100, batch_size=5,verbose=0,callbacks=[es_monitor])"
      ],
      "execution_count": 0,
      "outputs": []
    },
    {
      "cell_type": "code",
      "metadata": {
        "id": "RKIMn2XIIO5k",
        "colab_type": "code",
        "colab": {
          "base_uri": "https://localhost:8080/",
          "height": 34
        },
        "outputId": "3122d4f1-e4a6-4b76-a802-3e032c0a976f"
      },
      "source": [
        "# evaluate the model\n",
        "train_acc1 = model_s.evaluate(tr_X, y_tr, verbose=0)\n",
        "test_acc1 = model_s.evaluate(ts_X, y_ts, verbose=0)\n",
        "print('Train:',train_acc1,'Test:',test_acc1)"
      ],
      "execution_count": 140,
      "outputs": [
        {
          "output_type": "stream",
          "text": [
            "Train: [0.12224617259664804, 0.9710806697108066] Test: [4.335233559580465, 0.078277886438743]\n"
          ],
          "name": "stdout"
        }
      ]
    },
    {
      "cell_type": "code",
      "metadata": {
        "id": "z4-n30TwIO53",
        "colab_type": "code",
        "colab": {}
      },
      "source": [
        "#predictions\n",
        "y_prd=model_s.predict_classes(ts_X)"
      ],
      "execution_count": 0,
      "outputs": []
    },
    {
      "cell_type": "code",
      "metadata": {
        "id": "a-FvvVhyjnc5",
        "colab_type": "code",
        "colab": {
          "base_uri": "https://localhost:8080/",
          "height": 340
        },
        "outputId": "e0c2fad0-5b32-47ae-b4b1-cb0f9b98eec4"
      },
      "source": [
        "#evaluating the model\n",
        "from sklearn.metrics import classification_report\n",
        "print(classification_report(y_ts, y_prd))"
      ],
      "execution_count": 143,
      "outputs": [
        {
          "output_type": "stream",
          "text": [
            "              precision    recall  f1-score   support\n",
            "\n",
            "           0       0.05      0.02      0.03        46\n",
            "           1       0.08      0.04      0.05        50\n",
            "           2       0.10      0.02      0.04        43\n",
            "           3       0.10      0.11      0.10        38\n",
            "           4       0.02      0.02      0.02        46\n",
            "           5       0.22      0.09      0.13        44\n",
            "           6       0.09      0.06      0.07        47\n",
            "           7       0.12      0.26      0.17        47\n",
            "           8       0.00      0.00      0.00        36\n",
            "           9       0.06      0.24      0.10        34\n",
            "          10       0.06      0.12      0.08        33\n",
            "          11       0.00      0.00      0.00        47\n",
            "\n",
            "    accuracy                           0.08       511\n",
            "   macro avg       0.08      0.08      0.07       511\n",
            "weighted avg       0.08      0.08      0.07       511\n",
            "\n"
          ],
          "name": "stdout"
        }
      ]
    },
    {
      "cell_type": "markdown",
      "metadata": {
        "id": "MIZXiiIHkA_z",
        "colab_type": "text"
      },
      "source": [
        "In conclusion, the metrics for astrological sign make sense since there isn't an obvious correlation of blog posts and zodiac sign so there is a 1/12 chance of predicting the correct star i.e an 8% of a correct Astrological star prediction based on blog posts. I attribute these scores to the lack of correlation in the data and not the model itself.\n",
        "\n",
        "The model for gender however showed SOME correlation as there was a score of around 60% instead of the expeted 50% (1/2 chance)."
      ]
    },
    {
      "cell_type": "code",
      "metadata": {
        "id": "crUzqyWOjq4G",
        "colab_type": "code",
        "colab": {}
      },
      "source": [
        ""
      ],
      "execution_count": 0,
      "outputs": []
    }
  ]
}